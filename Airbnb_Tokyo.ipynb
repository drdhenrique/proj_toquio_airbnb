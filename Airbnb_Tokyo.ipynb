{
  "nbformat": 4,
  "nbformat_minor": 0,
  "metadata": {
    "colab": {
      "provenance": [],
      "collapsed_sections": [
        "wt3EKAB_FhP5",
        "sjcVwBrCHSR3",
        "IRivORomHYCB",
        "F9IZCvMJHbS3",
        "qfyk50bmHf9k"
      ],
      "authorship_tag": "ABX9TyMGd5dOwQ2fxq95MrB72hvM",
      "include_colab_link": true
    },
    "kernelspec": {
      "name": "python3",
      "display_name": "Python 3"
    },
    "language_info": {
      "name": "python"
    }
  },
  "cells": [
    {
      "cell_type": "markdown",
      "metadata": {
        "id": "view-in-github",
        "colab_type": "text"
      },
      "source": [
        "<a href=\"https://colab.research.google.com/github/drdhenrique/proj_toquio_airbnb/blob/main/Airbnb_Tokyo.ipynb\" target=\"_parent\"><img src=\"https://colab.research.google.com/assets/colab-badge.svg\" alt=\"Open In Colab\"/></a>"
      ]
    },
    {
      "cell_type": "markdown",
      "source": [
        "# Projeto de Análise de Dados - **Tóquio**"
      ],
      "metadata": {
        "id": "oTFjHqQTTx3e"
      }
    },
    {
      "cell_type": "markdown",
      "source": [
        "<center><img alt=\"Tokyo\" width=\"75%\" src=\"https://lp-cms-production.imgix.net/image_browser/The%20best%20free%20things%20to%20do%20in%20Tokyo.jpg?auto=format&fit=crop&q=40&sharp=10&vib=20&ixlib=react-8.6.4\"></center>\n"
      ],
      "metadata": {
        "id": "VirbEubwsX_9"
      }
    },
    {
      "cell_type": "markdown",
      "source": [
        "## Introdução"
      ],
      "metadata": {
        "id": "LozDXqWpKQzm"
      }
    },
    {
      "cell_type": "markdown",
      "source": [
        "Nesse projeto faremos uma análise exploratória de dados do **Airbnb** de acomodações na cidade de **Tóquio**, a capital *mais populosa do mundo*, com dados retirados do site [Airbnb Inside](http://insideairbnb.com/get-the-data/) (em 17-09-2023)."
      ],
      "metadata": {
        "id": "FstKI5t3GMHw"
      }
    },
    {
      "cell_type": "markdown",
      "source": [
        "## Importação dos dados e pacotes utilizados"
      ],
      "metadata": {
        "id": "3jVu_PYU-yyt"
      }
    },
    {
      "cell_type": "code",
      "execution_count": 2,
      "metadata": {
        "id": "OhXTE3N0TxCr"
      },
      "outputs": [],
      "source": [
        "# Pacotes\n",
        "\n",
        "import pandas as pd\n",
        "import matplotlib.pyplot as plt\n",
        "import seaborn as sns\n",
        "\n",
        "%matplotlib inline"
      ]
    },
    {
      "cell_type": "code",
      "source": [
        "# Dados\n",
        "\n",
        "df = pd.read_csv('http://data.insideairbnb.com/japan/kant%C5%8D/tokyo/2023-06-29/visualisations/listings.csv',\n",
        "                 index_col = 'id')\n",
        "\n",
        "print(f'As dimensões desse conjunto de dados são {df.shape[0]} linhas/observações e {df.shape[1]-1} variáveis')"
      ],
      "metadata": {
        "colab": {
          "base_uri": "https://localhost:8080/"
        },
        "id": "NdNEUlU8_FWg",
        "outputId": "16ddad24-5f2a-4f49-ce48-70e6a8bb6e4d"
      },
      "execution_count": 3,
      "outputs": [
        {
          "output_type": "stream",
          "name": "stdout",
          "text": [
            "As dimensões desse conjunto de dados são 11177 linhas/observações e 16 variáveis\n"
          ]
        }
      ]
    },
    {
      "cell_type": "markdown",
      "source": [
        "# Análise de Dados"
      ],
      "metadata": {
        "id": "HYSncIG9-dRX"
      }
    },
    {
      "cell_type": "markdown",
      "source": [
        "## Dicionário das Variáveis"
      ],
      "metadata": {
        "id": "wt3EKAB_FhP5"
      }
    },
    {
      "cell_type": "markdown",
      "source": [
        "\n",
        "\n",
        "**Dicionário das variáveis**\n",
        "\n",
        "* **name -** Descrição do imóvel ou quarto\n",
        "* **host_id -** Identificador numérico do anfitrião\n",
        "* **host_name -** Nome do(s) anfitrião(s)\n",
        "* **neighbourhood_group -** ??\n",
        "* **neighbourhood -** Bairro em que se encontra o imóvel\n",
        "* **latitude e longitude -** As coordenadas geográficas do imóvel ou quarto\n",
        "* **room_type -** Tipo de hospedagem\n",
        "* **price -** Preço da diária\n",
        "* **minimum_nights -** Quantidade mínima de noites para hospedagem\n",
        "* **number_of_reviews** Número (total) de reviews\n",
        "* **last_review -** Data da última review registrada (na obtenção dos dados)\n",
        "* **reviews_per_month -** Quantidade média de reviews mensais\n",
        "* **calculated_host_listings_count -** Quantidade de hospedagens que um anfitrião possui disponível na região/cidade\n",
        "* **availability_365 -** Disponibilidade para o imóvel/quarto nos próximos 365 dias\n",
        "* **number_of_reviews_ltm -** Quantidade média de reviews mensais nos últimos 12 meses\n",
        "* **license -** Licença do imóvel\n",
        "\n",
        "\n",
        "\n",
        "Informações mais detalhadas podem ser encontradas em [Airbnb - Dicionário de dados](https://docs.google.com/spreadsheets/d/1iWCNJcSutYqpULSQHlNyGInUvHg2BoUGoNRIGa6Szc4/edit#gid=1938308660)"
      ],
      "metadata": {
        "id": "AWBtWO_1-fjB"
      }
    },
    {
      "cell_type": "markdown",
      "source": [
        "## Análise Exploratória"
      ],
      "metadata": {
        "id": "iUHfA-JOFs8W"
      }
    },
    {
      "cell_type": "markdown",
      "source": [
        "Antes de iniciar qualquer análise, vamos verificar a cara do nosso *dataset*, analisando as 3 primeiras entradas."
      ],
      "metadata": {
        "id": "NCS5KTu2GFpm"
      }
    },
    {
      "cell_type": "code",
      "source": [
        "df.head(3)"
      ],
      "metadata": {
        "colab": {
          "base_uri": "https://localhost:8080/",
          "height": 507
        },
        "id": "DjRQbz3p-e9i",
        "outputId": "c4bc7f4d-0258-48f3-adf6-80e52697391c"
      },
      "execution_count": null,
      "outputs": [
        {
          "output_type": "execute_result",
          "data": {
            "text/plain": [
              "                                                      name   host_id  \\\n",
              "id                                                                     \n",
              "197677   Rental unit in Sumida · ★4.78 · 1 bedroom · 2 ...    964081   \n",
              "776070   Home in Kita-ku · ★4.98 · 1 bedroom · 1 bed · ...    801494   \n",
              "3427384  Rental unit in Edogawa · ★4.82 · 1 bedroom · 2...  13018876   \n",
              "\n",
              "               host_name  neighbourhood_group neighbourhood  latitude  \\\n",
              "id                                                                      \n",
              "197677   Yoshimi & Marek                  NaN     Sumida Ku  35.71707   \n",
              "776070               Kei                  NaN       Kita Ku  35.73844   \n",
              "3427384        Masakatsu                  NaN    Edogawa Ku  35.68374   \n",
              "\n",
              "         longitude        room_type  price  minimum_nights  number_of_reviews  \\\n",
              "id                                                                              \n",
              "197677   139.82608  Entire home/apt  11000               3                173   \n",
              "776070   139.76917     Private room   7208               3                243   \n",
              "3427384  139.85971  Entire home/apt   7847               2                100   \n",
              "\n",
              "        last_review  reviews_per_month  calculated_host_listings_count  \\\n",
              "id                                                                       \n",
              "197677   2023-05-30               1.21                               1   \n",
              "776070   2023-06-20               1.89                               1   \n",
              "3427384  2023-05-22               0.93                               2   \n",
              "\n",
              "         availability_365  number_of_reviews_ltm  \\\n",
              "id                                                 \n",
              "197677                 24                      8   \n",
              "776070                 67                     15   \n",
              "3427384               231                     19   \n",
              "\n",
              "                                                   license  \n",
              "id                                                          \n",
              "197677                                          M130003350  \n",
              "776070                                                 NaN  \n",
              "3427384  Hotels and Inns Business Act | 東京都江戸川区保健所 | 18...  "
            ],
            "text/html": [
              "\n",
              "  <div id=\"df-d998acd1-7eda-4219-87db-16b227b85a7d\" class=\"colab-df-container\">\n",
              "    <div>\n",
              "<style scoped>\n",
              "    .dataframe tbody tr th:only-of-type {\n",
              "        vertical-align: middle;\n",
              "    }\n",
              "\n",
              "    .dataframe tbody tr th {\n",
              "        vertical-align: top;\n",
              "    }\n",
              "\n",
              "    .dataframe thead th {\n",
              "        text-align: right;\n",
              "    }\n",
              "</style>\n",
              "<table border=\"1\" class=\"dataframe\">\n",
              "  <thead>\n",
              "    <tr style=\"text-align: right;\">\n",
              "      <th></th>\n",
              "      <th>name</th>\n",
              "      <th>host_id</th>\n",
              "      <th>host_name</th>\n",
              "      <th>neighbourhood_group</th>\n",
              "      <th>neighbourhood</th>\n",
              "      <th>latitude</th>\n",
              "      <th>longitude</th>\n",
              "      <th>room_type</th>\n",
              "      <th>price</th>\n",
              "      <th>minimum_nights</th>\n",
              "      <th>number_of_reviews</th>\n",
              "      <th>last_review</th>\n",
              "      <th>reviews_per_month</th>\n",
              "      <th>calculated_host_listings_count</th>\n",
              "      <th>availability_365</th>\n",
              "      <th>number_of_reviews_ltm</th>\n",
              "      <th>license</th>\n",
              "    </tr>\n",
              "    <tr>\n",
              "      <th>id</th>\n",
              "      <th></th>\n",
              "      <th></th>\n",
              "      <th></th>\n",
              "      <th></th>\n",
              "      <th></th>\n",
              "      <th></th>\n",
              "      <th></th>\n",
              "      <th></th>\n",
              "      <th></th>\n",
              "      <th></th>\n",
              "      <th></th>\n",
              "      <th></th>\n",
              "      <th></th>\n",
              "      <th></th>\n",
              "      <th></th>\n",
              "      <th></th>\n",
              "      <th></th>\n",
              "    </tr>\n",
              "  </thead>\n",
              "  <tbody>\n",
              "    <tr>\n",
              "      <th>197677</th>\n",
              "      <td>Rental unit in Sumida · ★4.78 · 1 bedroom · 2 ...</td>\n",
              "      <td>964081</td>\n",
              "      <td>Yoshimi &amp; Marek</td>\n",
              "      <td>NaN</td>\n",
              "      <td>Sumida Ku</td>\n",
              "      <td>35.71707</td>\n",
              "      <td>139.82608</td>\n",
              "      <td>Entire home/apt</td>\n",
              "      <td>11000</td>\n",
              "      <td>3</td>\n",
              "      <td>173</td>\n",
              "      <td>2023-05-30</td>\n",
              "      <td>1.21</td>\n",
              "      <td>1</td>\n",
              "      <td>24</td>\n",
              "      <td>8</td>\n",
              "      <td>M130003350</td>\n",
              "    </tr>\n",
              "    <tr>\n",
              "      <th>776070</th>\n",
              "      <td>Home in Kita-ku · ★4.98 · 1 bedroom · 1 bed · ...</td>\n",
              "      <td>801494</td>\n",
              "      <td>Kei</td>\n",
              "      <td>NaN</td>\n",
              "      <td>Kita Ku</td>\n",
              "      <td>35.73844</td>\n",
              "      <td>139.76917</td>\n",
              "      <td>Private room</td>\n",
              "      <td>7208</td>\n",
              "      <td>3</td>\n",
              "      <td>243</td>\n",
              "      <td>2023-06-20</td>\n",
              "      <td>1.89</td>\n",
              "      <td>1</td>\n",
              "      <td>67</td>\n",
              "      <td>15</td>\n",
              "      <td>NaN</td>\n",
              "    </tr>\n",
              "    <tr>\n",
              "      <th>3427384</th>\n",
              "      <td>Rental unit in Edogawa · ★4.82 · 1 bedroom · 2...</td>\n",
              "      <td>13018876</td>\n",
              "      <td>Masakatsu</td>\n",
              "      <td>NaN</td>\n",
              "      <td>Edogawa Ku</td>\n",
              "      <td>35.68374</td>\n",
              "      <td>139.85971</td>\n",
              "      <td>Entire home/apt</td>\n",
              "      <td>7847</td>\n",
              "      <td>2</td>\n",
              "      <td>100</td>\n",
              "      <td>2023-05-22</td>\n",
              "      <td>0.93</td>\n",
              "      <td>2</td>\n",
              "      <td>231</td>\n",
              "      <td>19</td>\n",
              "      <td>Hotels and Inns Business Act | 東京都江戸川区保健所 | 18...</td>\n",
              "    </tr>\n",
              "  </tbody>\n",
              "</table>\n",
              "</div>\n",
              "    <div class=\"colab-df-buttons\">\n",
              "\n",
              "  <div class=\"colab-df-container\">\n",
              "    <button class=\"colab-df-convert\" onclick=\"convertToInteractive('df-d998acd1-7eda-4219-87db-16b227b85a7d')\"\n",
              "            title=\"Convert this dataframe to an interactive table.\"\n",
              "            style=\"display:none;\">\n",
              "\n",
              "  <svg xmlns=\"http://www.w3.org/2000/svg\" height=\"24px\" viewBox=\"0 -960 960 960\">\n",
              "    <path d=\"M120-120v-720h720v720H120Zm60-500h600v-160H180v160Zm220 220h160v-160H400v160Zm0 220h160v-160H400v160ZM180-400h160v-160H180v160Zm440 0h160v-160H620v160ZM180-180h160v-160H180v160Zm440 0h160v-160H620v160Z\"/>\n",
              "  </svg>\n",
              "    </button>\n",
              "\n",
              "  <style>\n",
              "    .colab-df-container {\n",
              "      display:flex;\n",
              "      gap: 12px;\n",
              "    }\n",
              "\n",
              "    .colab-df-convert {\n",
              "      background-color: #E8F0FE;\n",
              "      border: none;\n",
              "      border-radius: 50%;\n",
              "      cursor: pointer;\n",
              "      display: none;\n",
              "      fill: #1967D2;\n",
              "      height: 32px;\n",
              "      padding: 0 0 0 0;\n",
              "      width: 32px;\n",
              "    }\n",
              "\n",
              "    .colab-df-convert:hover {\n",
              "      background-color: #E2EBFA;\n",
              "      box-shadow: 0px 1px 2px rgba(60, 64, 67, 0.3), 0px 1px 3px 1px rgba(60, 64, 67, 0.15);\n",
              "      fill: #174EA6;\n",
              "    }\n",
              "\n",
              "    .colab-df-buttons div {\n",
              "      margin-bottom: 4px;\n",
              "    }\n",
              "\n",
              "    [theme=dark] .colab-df-convert {\n",
              "      background-color: #3B4455;\n",
              "      fill: #D2E3FC;\n",
              "    }\n",
              "\n",
              "    [theme=dark] .colab-df-convert:hover {\n",
              "      background-color: #434B5C;\n",
              "      box-shadow: 0px 1px 3px 1px rgba(0, 0, 0, 0.15);\n",
              "      filter: drop-shadow(0px 1px 2px rgba(0, 0, 0, 0.3));\n",
              "      fill: #FFFFFF;\n",
              "    }\n",
              "  </style>\n",
              "\n",
              "    <script>\n",
              "      const buttonEl =\n",
              "        document.querySelector('#df-d998acd1-7eda-4219-87db-16b227b85a7d button.colab-df-convert');\n",
              "      buttonEl.style.display =\n",
              "        google.colab.kernel.accessAllowed ? 'block' : 'none';\n",
              "\n",
              "      async function convertToInteractive(key) {\n",
              "        const element = document.querySelector('#df-d998acd1-7eda-4219-87db-16b227b85a7d');\n",
              "        const dataTable =\n",
              "          await google.colab.kernel.invokeFunction('convertToInteractive',\n",
              "                                                    [key], {});\n",
              "        if (!dataTable) return;\n",
              "\n",
              "        const docLinkHtml = 'Like what you see? Visit the ' +\n",
              "          '<a target=\"_blank\" href=https://colab.research.google.com/notebooks/data_table.ipynb>data table notebook</a>'\n",
              "          + ' to learn more about interactive tables.';\n",
              "        element.innerHTML = '';\n",
              "        dataTable['output_type'] = 'display_data';\n",
              "        await google.colab.output.renderOutput(dataTable, element);\n",
              "        const docLink = document.createElement('div');\n",
              "        docLink.innerHTML = docLinkHtml;\n",
              "        element.appendChild(docLink);\n",
              "      }\n",
              "    </script>\n",
              "  </div>\n",
              "\n",
              "\n",
              "<div id=\"df-31bd86d3-27ad-4929-940d-b5d156aae901\">\n",
              "  <button class=\"colab-df-quickchart\" onclick=\"quickchart('df-31bd86d3-27ad-4929-940d-b5d156aae901')\"\n",
              "            title=\"Suggest charts.\"\n",
              "            style=\"display:none;\">\n",
              "\n",
              "<svg xmlns=\"http://www.w3.org/2000/svg\" height=\"24px\"viewBox=\"0 0 24 24\"\n",
              "     width=\"24px\">\n",
              "    <g>\n",
              "        <path d=\"M19 3H5c-1.1 0-2 .9-2 2v14c0 1.1.9 2 2 2h14c1.1 0 2-.9 2-2V5c0-1.1-.9-2-2-2zM9 17H7v-7h2v7zm4 0h-2V7h2v10zm4 0h-2v-4h2v4z\"/>\n",
              "    </g>\n",
              "</svg>\n",
              "  </button>\n",
              "\n",
              "<style>\n",
              "  .colab-df-quickchart {\n",
              "      --bg-color: #E8F0FE;\n",
              "      --fill-color: #1967D2;\n",
              "      --hover-bg-color: #E2EBFA;\n",
              "      --hover-fill-color: #174EA6;\n",
              "      --disabled-fill-color: #AAA;\n",
              "      --disabled-bg-color: #DDD;\n",
              "  }\n",
              "\n",
              "  [theme=dark] .colab-df-quickchart {\n",
              "      --bg-color: #3B4455;\n",
              "      --fill-color: #D2E3FC;\n",
              "      --hover-bg-color: #434B5C;\n",
              "      --hover-fill-color: #FFFFFF;\n",
              "      --disabled-bg-color: #3B4455;\n",
              "      --disabled-fill-color: #666;\n",
              "  }\n",
              "\n",
              "  .colab-df-quickchart {\n",
              "    background-color: var(--bg-color);\n",
              "    border: none;\n",
              "    border-radius: 50%;\n",
              "    cursor: pointer;\n",
              "    display: none;\n",
              "    fill: var(--fill-color);\n",
              "    height: 32px;\n",
              "    padding: 0;\n",
              "    width: 32px;\n",
              "  }\n",
              "\n",
              "  .colab-df-quickchart:hover {\n",
              "    background-color: var(--hover-bg-color);\n",
              "    box-shadow: 0 1px 2px rgba(60, 64, 67, 0.3), 0 1px 3px 1px rgba(60, 64, 67, 0.15);\n",
              "    fill: var(--button-hover-fill-color);\n",
              "  }\n",
              "\n",
              "  .colab-df-quickchart-complete:disabled,\n",
              "  .colab-df-quickchart-complete:disabled:hover {\n",
              "    background-color: var(--disabled-bg-color);\n",
              "    fill: var(--disabled-fill-color);\n",
              "    box-shadow: none;\n",
              "  }\n",
              "\n",
              "  .colab-df-spinner {\n",
              "    border: 2px solid var(--fill-color);\n",
              "    border-color: transparent;\n",
              "    border-bottom-color: var(--fill-color);\n",
              "    animation:\n",
              "      spin 1s steps(1) infinite;\n",
              "  }\n",
              "\n",
              "  @keyframes spin {\n",
              "    0% {\n",
              "      border-color: transparent;\n",
              "      border-bottom-color: var(--fill-color);\n",
              "      border-left-color: var(--fill-color);\n",
              "    }\n",
              "    20% {\n",
              "      border-color: transparent;\n",
              "      border-left-color: var(--fill-color);\n",
              "      border-top-color: var(--fill-color);\n",
              "    }\n",
              "    30% {\n",
              "      border-color: transparent;\n",
              "      border-left-color: var(--fill-color);\n",
              "      border-top-color: var(--fill-color);\n",
              "      border-right-color: var(--fill-color);\n",
              "    }\n",
              "    40% {\n",
              "      border-color: transparent;\n",
              "      border-right-color: var(--fill-color);\n",
              "      border-top-color: var(--fill-color);\n",
              "    }\n",
              "    60% {\n",
              "      border-color: transparent;\n",
              "      border-right-color: var(--fill-color);\n",
              "    }\n",
              "    80% {\n",
              "      border-color: transparent;\n",
              "      border-right-color: var(--fill-color);\n",
              "      border-bottom-color: var(--fill-color);\n",
              "    }\n",
              "    90% {\n",
              "      border-color: transparent;\n",
              "      border-bottom-color: var(--fill-color);\n",
              "    }\n",
              "  }\n",
              "</style>\n",
              "\n",
              "  <script>\n",
              "    async function quickchart(key) {\n",
              "      const quickchartButtonEl =\n",
              "        document.querySelector('#' + key + ' button');\n",
              "      quickchartButtonEl.disabled = true;  // To prevent multiple clicks.\n",
              "      quickchartButtonEl.classList.add('colab-df-spinner');\n",
              "      try {\n",
              "        const charts = await google.colab.kernel.invokeFunction(\n",
              "            'suggestCharts', [key], {});\n",
              "      } catch (error) {\n",
              "        console.error('Error during call to suggestCharts:', error);\n",
              "      }\n",
              "      quickchartButtonEl.classList.remove('colab-df-spinner');\n",
              "      quickchartButtonEl.classList.add('colab-df-quickchart-complete');\n",
              "    }\n",
              "    (() => {\n",
              "      let quickchartButtonEl =\n",
              "        document.querySelector('#df-31bd86d3-27ad-4929-940d-b5d156aae901 button');\n",
              "      quickchartButtonEl.style.display =\n",
              "        google.colab.kernel.accessAllowed ? 'block' : 'none';\n",
              "    })();\n",
              "  </script>\n",
              "</div>\n",
              "    </div>\n",
              "  </div>\n"
            ]
          },
          "metadata": {},
          "execution_count": 5
        }
      ]
    },
    {
      "cell_type": "markdown",
      "source": [
        "### **Q1. Quantos atributos (variáveis) e quantas entradas o nosso conjunto de dados possui? Quais os tipos das variáveis?**"
      ],
      "metadata": {
        "id": "sjcVwBrCHSR3"
      }
    },
    {
      "cell_type": "code",
      "source": [
        "df.dtypes  # Ou df.info()"
      ],
      "metadata": {
        "colab": {
          "base_uri": "https://localhost:8080/"
        },
        "id": "8v41lyVXKx8E",
        "outputId": "cee28137-c1b2-44d1-d1e4-957cec4a0b56"
      },
      "execution_count": null,
      "outputs": [
        {
          "output_type": "execute_result",
          "data": {
            "text/plain": [
              "name                               object\n",
              "host_id                             int64\n",
              "host_name                          object\n",
              "neighbourhood_group               float64\n",
              "neighbourhood                      object\n",
              "latitude                          float64\n",
              "longitude                         float64\n",
              "room_type                          object\n",
              "price                               int64\n",
              "minimum_nights                      int64\n",
              "number_of_reviews                   int64\n",
              "last_review                        object\n",
              "reviews_per_month                 float64\n",
              "calculated_host_listings_count      int64\n",
              "availability_365                    int64\n",
              "number_of_reviews_ltm               int64\n",
              "license                            object\n",
              "dtype: object"
            ]
          },
          "metadata": {},
          "execution_count": 15
        }
      ]
    },
    {
      "cell_type": "markdown",
      "source": [
        "Acima temos as variáveis e seus respectivos tipo, sendo *object* para textos (strings), *int64* para números inteiros e *float64* para números decimais (float ou double)"
      ],
      "metadata": {
        "id": "zv1-4wyuhN2k"
      }
    },
    {
      "cell_type": "markdown",
      "source": [
        "### **Q2. Qual a porcentagem de valores ausentes no *dataset*?**"
      ],
      "metadata": {
        "id": "IRivORomHYCB"
      }
    },
    {
      "cell_type": "code",
      "source": [
        "#@title\n",
        "df.isnull().sum()/df.shape[0]*100"
      ],
      "metadata": {
        "id": "Vp62CLPnLCND",
        "colab": {
          "base_uri": "https://localhost:8080/"
        },
        "outputId": "fdf6bd96-0777-4dc3-c0f7-7f6aae491824"
      },
      "execution_count": null,
      "outputs": [
        {
          "output_type": "execute_result",
          "data": {
            "text/plain": [
              "name                                0.000000\n",
              "host_id                             0.000000\n",
              "host_name                           0.000000\n",
              "neighbourhood_group               100.000000\n",
              "neighbourhood                       0.000000\n",
              "latitude                            0.000000\n",
              "longitude                           0.000000\n",
              "room_type                           0.000000\n",
              "price                               0.000000\n",
              "minimum_nights                      0.000000\n",
              "number_of_reviews                   0.000000\n",
              "last_review                        11.201575\n",
              "reviews_per_month                  11.201575\n",
              "calculated_host_listings_count      0.000000\n",
              "availability_365                    0.000000\n",
              "number_of_reviews_ltm               0.000000\n",
              "license                             8.410128\n",
              "dtype: float64"
            ]
          },
          "metadata": {},
          "execution_count": 12
        }
      ]
    },
    {
      "cell_type": "markdown",
      "source": [
        "Logo concluímos que **neighbourhood_group** está inteiramente 'vazia' e portanto não é uma variável interessante para análise, sendo uma variável passivel de eliminação completa. Já **license** tem $8$% de valores ausentes enquanto que **last_review** e **reviews_per_month** tem o mesmo percentual ($11.2$%) de valores ausentes, o que talvez mereça uma investigação mais aprofundada."
      ],
      "metadata": {
        "id": "4wrxBlUojMsS"
      }
    },
    {
      "cell_type": "markdown",
      "source": [
        "### **Q3. Qual o tipo de distribuição das variáveis?**"
      ],
      "metadata": {
        "id": "F9IZCvMJHbS3"
      }
    },
    {
      "cell_type": "code",
      "source": [
        "df[['price', 'minimum_nights', 'number_of_reviews', 'reviews_per_month',\n",
        "    'calculated_host_listings_count', 'availability_365']].hist(bins=15, figsize=(15,10));"
      ],
      "metadata": {
        "id": "DYPD7RdOL3yn",
        "colab": {
          "base_uri": "https://localhost:8080/",
          "height": 853
        },
        "outputId": "0ca5c580-56e2-4af7-f9c4-e055a586ce30"
      },
      "execution_count": null,
      "outputs": [
        {
          "output_type": "display_data",
          "data": {
            "text/plain": [
              "<Figure size 1500x1000 with 6 Axes>"
            ],
            "image/png": "[encoded data removed]"
          },
          "metadata": {}
        }
      ]
    },
    {
      "cell_type": "markdown",
      "source": [
        "Aqui notamos que alguns valores altos transformam alguns dos histogramas em basicamente barras concentradas à esquerda. Talvez a remoção dos 10% maiores valores nessas categorias seja interessante para a melhor visualização das distribuições dos dados. Notemos que nem todas as variáveis foram analisadas, pois informações como nome dos anfitriôes entre outras não são de particular interesse."
      ],
      "metadata": {
        "id": "tWq3bB0qozze"
      }
    },
    {
      "cell_type": "markdown",
      "source": [
        "### **Q4. Qual a média dos preços de aluguel?**\n"
      ],
      "metadata": {
        "id": "slJBZbNqHdn6"
      }
    },
    {
      "cell_type": "code",
      "source": [
        "print(df.price.mean()) # Preço médio\n",
        "\n",
        "\n",
        "print(df.price.median()) # Mediana dos preços"
      ],
      "metadata": {
        "id": "XsYmt5alL4Zy",
        "colab": {
          "base_uri": "https://localhost:8080/"
        },
        "outputId": "7e4fc4d4-2823-42cb-9adf-65f60995e670"
      },
      "execution_count": null,
      "outputs": [
        {
          "output_type": "stream",
          "name": "stdout",
          "text": [
            "21800.17070770332\n",
            "14429.0\n"
          ]
        }
      ]
    },
    {
      "cell_type": "markdown",
      "source": [
        "Aqui notemos uma diferença grande entre o preço médio e a mediana dos preços, talvez devido a algum valor com preço muito acima do meio. Uma análise relevante seria agrupar os dados por bairros e recalcular as médias."
      ],
      "metadata": {
        "id": "OrcRYMKtuNaA"
      }
    },
    {
      "cell_type": "markdown",
      "source": [
        "#### Há *outliers* presentes?"
      ],
      "metadata": {
        "id": "qa5kTV39urM9"
      }
    },
    {
      "cell_type": "code",
      "source": [
        "df[['price', 'minimum_nights', 'number_of_reviews', 'reviews_per_month',\n",
        "    'calculated_host_listings_count', 'availability_365']].describe()"
      ],
      "metadata": {
        "colab": {
          "base_uri": "https://localhost:8080/",
          "height": 300
        },
        "id": "XRGJaRtnuwBC",
        "outputId": "ad73dc01-bc8b-4da6-84a7-ffbe483f9e7a"
      },
      "execution_count": 4,
      "outputs": [
        {
          "output_type": "execute_result",
          "data": {
            "text/plain": [
              "              price  minimum_nights  number_of_reviews  reviews_per_month  \\\n",
              "count  1.117700e+04    11177.000000       11177.000000        9925.000000   \n",
              "mean   2.180017e+04        2.561779          36.477767           1.465815   \n",
              "std    4.844980e+04       12.179806          58.072851           1.640979   \n",
              "min    0.000000e+00        1.000000           0.000000           0.020000   \n",
              "25%    9.029000e+03        1.000000           4.000000           0.550000   \n",
              "50%    1.442900e+04        1.000000          16.000000           1.060000   \n",
              "75%    2.392900e+04        2.000000          46.000000           1.930000   \n",
              "max    1.306500e+06     1000.000000        1825.000000          48.640000   \n",
              "\n",
              "       calculated_host_listings_count  availability_365  \n",
              "count                    11177.000000      11177.000000  \n",
              "mean                        13.671021        142.333095  \n",
              "std                         15.509964        105.100696  \n",
              "min                          1.000000          0.000000  \n",
              "25%                          4.000000         57.000000  \n",
              "50%                          8.000000        128.000000  \n",
              "75%                         18.000000        220.000000  \n",
              "max                         98.000000        365.000000  "
            ],
            "text/html": [
              "\n",
              "  <div id=\"df-5f8d851c-83d2-4a51-b117-267f33c9200a\" class=\"colab-df-container\">\n",
              "    <div>\n",
              "<style scoped>\n",
              "    .dataframe tbody tr th:only-of-type {\n",
              "        vertical-align: middle;\n",
              "    }\n",
              "\n",
              "    .dataframe tbody tr th {\n",
              "        vertical-align: top;\n",
              "    }\n",
              "\n",
              "    .dataframe thead th {\n",
              "        text-align: right;\n",
              "    }\n",
              "</style>\n",
              "<table border=\"1\" class=\"dataframe\">\n",
              "  <thead>\n",
              "    <tr style=\"text-align: right;\">\n",
              "      <th></th>\n",
              "      <th>price</th>\n",
              "      <th>minimum_nights</th>\n",
              "      <th>number_of_reviews</th>\n",
              "      <th>reviews_per_month</th>\n",
              "      <th>calculated_host_listings_count</th>\n",
              "      <th>availability_365</th>\n",
              "    </tr>\n",
              "  </thead>\n",
              "  <tbody>\n",
              "    <tr>\n",
              "      <th>count</th>\n",
              "      <td>1.117700e+04</td>\n",
              "      <td>11177.000000</td>\n",
              "      <td>11177.000000</td>\n",
              "      <td>9925.000000</td>\n",
              "      <td>11177.000000</td>\n",
              "      <td>11177.000000</td>\n",
              "    </tr>\n",
              "    <tr>\n",
              "      <th>mean</th>\n",
              "      <td>2.180017e+04</td>\n",
              "      <td>2.561779</td>\n",
              "      <td>36.477767</td>\n",
              "      <td>1.465815</td>\n",
              "      <td>13.671021</td>\n",
              "      <td>142.333095</td>\n",
              "    </tr>\n",
              "    <tr>\n",
              "      <th>std</th>\n",
              "      <td>4.844980e+04</td>\n",
              "      <td>12.179806</td>\n",
              "      <td>58.072851</td>\n",
              "      <td>1.640979</td>\n",
              "      <td>15.509964</td>\n",
              "      <td>105.100696</td>\n",
              "    </tr>\n",
              "    <tr>\n",
              "      <th>min</th>\n",
              "      <td>0.000000e+00</td>\n",
              "      <td>1.000000</td>\n",
              "      <td>0.000000</td>\n",
              "      <td>0.020000</td>\n",
              "      <td>1.000000</td>\n",
              "      <td>0.000000</td>\n",
              "    </tr>\n",
              "    <tr>\n",
              "      <th>25%</th>\n",
              "      <td>9.029000e+03</td>\n",
              "      <td>1.000000</td>\n",
              "      <td>4.000000</td>\n",
              "      <td>0.550000</td>\n",
              "      <td>4.000000</td>\n",
              "      <td>57.000000</td>\n",
              "    </tr>\n",
              "    <tr>\n",
              "      <th>50%</th>\n",
              "      <td>1.442900e+04</td>\n",
              "      <td>1.000000</td>\n",
              "      <td>16.000000</td>\n",
              "      <td>1.060000</td>\n",
              "      <td>8.000000</td>\n",
              "      <td>128.000000</td>\n",
              "    </tr>\n",
              "    <tr>\n",
              "      <th>75%</th>\n",
              "      <td>2.392900e+04</td>\n",
              "      <td>2.000000</td>\n",
              "      <td>46.000000</td>\n",
              "      <td>1.930000</td>\n",
              "      <td>18.000000</td>\n",
              "      <td>220.000000</td>\n",
              "    </tr>\n",
              "    <tr>\n",
              "      <th>max</th>\n",
              "      <td>1.306500e+06</td>\n",
              "      <td>1000.000000</td>\n",
              "      <td>1825.000000</td>\n",
              "      <td>48.640000</td>\n",
              "      <td>98.000000</td>\n",
              "      <td>365.000000</td>\n",
              "    </tr>\n",
              "  </tbody>\n",
              "</table>\n",
              "</div>\n",
              "    <div class=\"colab-df-buttons\">\n",
              "\n",
              "  <div class=\"colab-df-container\">\n",
              "    <button class=\"colab-df-convert\" onclick=\"convertToInteractive('df-5f8d851c-83d2-4a51-b117-267f33c9200a')\"\n",
              "            title=\"Convert this dataframe to an interactive table.\"\n",
              "            style=\"display:none;\">\n",
              "\n",
              "  <svg xmlns=\"http://www.w3.org/2000/svg\" height=\"24px\" viewBox=\"0 -960 960 960\">\n",
              "    <path d=\"M120-120v-720h720v720H120Zm60-500h600v-160H180v160Zm220 220h160v-160H400v160Zm0 220h160v-160H400v160ZM180-400h160v-160H180v160Zm440 0h160v-160H620v160ZM180-180h160v-160H180v160Zm440 0h160v-160H620v160Z\"/>\n",
              "  </svg>\n",
              "    </button>\n",
              "\n",
              "  <style>\n",
              "    .colab-df-container {\n",
              "      display:flex;\n",
              "      gap: 12px;\n",
              "    }\n",
              "\n",
              "    .colab-df-convert {\n",
              "      background-color: #E8F0FE;\n",
              "      border: none;\n",
              "      border-radius: 50%;\n",
              "      cursor: pointer;\n",
              "      display: none;\n",
              "      fill: #1967D2;\n",
              "      height: 32px;\n",
              "      padding: 0 0 0 0;\n",
              "      width: 32px;\n",
              "    }\n",
              "\n",
              "    .colab-df-convert:hover {\n",
              "      background-color: #E2EBFA;\n",
              "      box-shadow: 0px 1px 2px rgba(60, 64, 67, 0.3), 0px 1px 3px 1px rgba(60, 64, 67, 0.15);\n",
              "      fill: #174EA6;\n",
              "    }\n",
              "\n",
              "    .colab-df-buttons div {\n",
              "      margin-bottom: 4px;\n",
              "    }\n",
              "\n",
              "    [theme=dark] .colab-df-convert {\n",
              "      background-color: #3B4455;\n",
              "      fill: #D2E3FC;\n",
              "    }\n",
              "\n",
              "    [theme=dark] .colab-df-convert:hover {\n",
              "      background-color: #434B5C;\n",
              "      box-shadow: 0px 1px 3px 1px rgba(0, 0, 0, 0.15);\n",
              "      filter: drop-shadow(0px 1px 2px rgba(0, 0, 0, 0.3));\n",
              "      fill: #FFFFFF;\n",
              "    }\n",
              "  </style>\n",
              "\n",
              "    <script>\n",
              "      const buttonEl =\n",
              "        document.querySelector('#df-5f8d851c-83d2-4a51-b117-267f33c9200a button.colab-df-convert');\n",
              "      buttonEl.style.display =\n",
              "        google.colab.kernel.accessAllowed ? 'block' : 'none';\n",
              "\n",
              "      async function convertToInteractive(key) {\n",
              "        const element = document.querySelector('#df-5f8d851c-83d2-4a51-b117-267f33c9200a');\n",
              "        const dataTable =\n",
              "          await google.colab.kernel.invokeFunction('convertToInteractive',\n",
              "                                                    [key], {});\n",
              "        if (!dataTable) return;\n",
              "\n",
              "        const docLinkHtml = 'Like what you see? Visit the ' +\n",
              "          '<a target=\"_blank\" href=https://colab.research.google.com/notebooks/data_table.ipynb>data table notebook</a>'\n",
              "          + ' to learn more about interactive tables.';\n",
              "        element.innerHTML = '';\n",
              "        dataTable['output_type'] = 'display_data';\n",
              "        await google.colab.output.renderOutput(dataTable, element);\n",
              "        const docLink = document.createElement('div');\n",
              "        docLink.innerHTML = docLinkHtml;\n",
              "        element.appendChild(docLink);\n",
              "      }\n",
              "    </script>\n",
              "  </div>\n",
              "\n",
              "\n",
              "<div id=\"df-70840796-9290-4710-93eb-c35fa6ea6efa\">\n",
              "  <button class=\"colab-df-quickchart\" onclick=\"quickchart('df-70840796-9290-4710-93eb-c35fa6ea6efa')\"\n",
              "            title=\"Suggest charts.\"\n",
              "            style=\"display:none;\">\n",
              "\n",
              "<svg xmlns=\"http://www.w3.org/2000/svg\" height=\"24px\"viewBox=\"0 0 24 24\"\n",
              "     width=\"24px\">\n",
              "    <g>\n",
              "        <path d=\"M19 3H5c-1.1 0-2 .9-2 2v14c0 1.1.9 2 2 2h14c1.1 0 2-.9 2-2V5c0-1.1-.9-2-2-2zM9 17H7v-7h2v7zm4 0h-2V7h2v10zm4 0h-2v-4h2v4z\"/>\n",
              "    </g>\n",
              "</svg>\n",
              "  </button>\n",
              "\n",
              "<style>\n",
              "  .colab-df-quickchart {\n",
              "      --bg-color: #E8F0FE;\n",
              "      --fill-color: #1967D2;\n",
              "      --hover-bg-color: #E2EBFA;\n",
              "      --hover-fill-color: #174EA6;\n",
              "      --disabled-fill-color: #AAA;\n",
              "      --disabled-bg-color: #DDD;\n",
              "  }\n",
              "\n",
              "  [theme=dark] .colab-df-quickchart {\n",
              "      --bg-color: #3B4455;\n",
              "      --fill-color: #D2E3FC;\n",
              "      --hover-bg-color: #434B5C;\n",
              "      --hover-fill-color: #FFFFFF;\n",
              "      --disabled-bg-color: #3B4455;\n",
              "      --disabled-fill-color: #666;\n",
              "  }\n",
              "\n",
              "  .colab-df-quickchart {\n",
              "    background-color: var(--bg-color);\n",
              "    border: none;\n",
              "    border-radius: 50%;\n",
              "    cursor: pointer;\n",
              "    display: none;\n",
              "    fill: var(--fill-color);\n",
              "    height: 32px;\n",
              "    padding: 0;\n",
              "    width: 32px;\n",
              "  }\n",
              "\n",
              "  .colab-df-quickchart:hover {\n",
              "    background-color: var(--hover-bg-color);\n",
              "    box-shadow: 0 1px 2px rgba(60, 64, 67, 0.3), 0 1px 3px 1px rgba(60, 64, 67, 0.15);\n",
              "    fill: var(--button-hover-fill-color);\n",
              "  }\n",
              "\n",
              "  .colab-df-quickchart-complete:disabled,\n",
              "  .colab-df-quickchart-complete:disabled:hover {\n",
              "    background-color: var(--disabled-bg-color);\n",
              "    fill: var(--disabled-fill-color);\n",
              "    box-shadow: none;\n",
              "  }\n",
              "\n",
              "  .colab-df-spinner {\n",
              "    border: 2px solid var(--fill-color);\n",
              "    border-color: transparent;\n",
              "    border-bottom-color: var(--fill-color);\n",
              "    animation:\n",
              "      spin 1s steps(1) infinite;\n",
              "  }\n",
              "\n",
              "  @keyframes spin {\n",
              "    0% {\n",
              "      border-color: transparent;\n",
              "      border-bottom-color: var(--fill-color);\n",
              "      border-left-color: var(--fill-color);\n",
              "    }\n",
              "    20% {\n",
              "      border-color: transparent;\n",
              "      border-left-color: var(--fill-color);\n",
              "      border-top-color: var(--fill-color);\n",
              "    }\n",
              "    30% {\n",
              "      border-color: transparent;\n",
              "      border-left-color: var(--fill-color);\n",
              "      border-top-color: var(--fill-color);\n",
              "      border-right-color: var(--fill-color);\n",
              "    }\n",
              "    40% {\n",
              "      border-color: transparent;\n",
              "      border-right-color: var(--fill-color);\n",
              "      border-top-color: var(--fill-color);\n",
              "    }\n",
              "    60% {\n",
              "      border-color: transparent;\n",
              "      border-right-color: var(--fill-color);\n",
              "    }\n",
              "    80% {\n",
              "      border-color: transparent;\n",
              "      border-right-color: var(--fill-color);\n",
              "      border-bottom-color: var(--fill-color);\n",
              "    }\n",
              "    90% {\n",
              "      border-color: transparent;\n",
              "      border-bottom-color: var(--fill-color);\n",
              "    }\n",
              "  }\n",
              "</style>\n",
              "\n",
              "  <script>\n",
              "    async function quickchart(key) {\n",
              "      const quickchartButtonEl =\n",
              "        document.querySelector('#' + key + ' button');\n",
              "      quickchartButtonEl.disabled = true;  // To prevent multiple clicks.\n",
              "      quickchartButtonEl.classList.add('colab-df-spinner');\n",
              "      try {\n",
              "        const charts = await google.colab.kernel.invokeFunction(\n",
              "            'suggestCharts', [key], {});\n",
              "      } catch (error) {\n",
              "        console.error('Error during call to suggestCharts:', error);\n",
              "      }\n",
              "      quickchartButtonEl.classList.remove('colab-df-spinner');\n",
              "      quickchartButtonEl.classList.add('colab-df-quickchart-complete');\n",
              "    }\n",
              "    (() => {\n",
              "      let quickchartButtonEl =\n",
              "        document.querySelector('#df-70840796-9290-4710-93eb-c35fa6ea6efa button');\n",
              "      quickchartButtonEl.style.display =\n",
              "        google.colab.kernel.accessAllowed ? 'block' : 'none';\n",
              "    })();\n",
              "  </script>\n",
              "</div>\n",
              "    </div>\n",
              "  </div>\n"
            ]
          },
          "metadata": {},
          "execution_count": 4
        }
      ]
    },
    {
      "cell_type": "markdown",
      "source": [
        "Aqui constatamos a presença se alguns pontos que distôam do padrão observado. Por exemplo, temos que $75% das acomodações tem mínimo de estadias como $2$, mas há um máximo de 1000, sendo totalmente distinto do padrão dos dados. Varemos agora a distribuição dos dados com a retirada de alguns dos *outliers*."
      ],
      "metadata": {
        "id": "ktVyvyJ6vFjE"
      }
    },
    {
      "cell_type": "code",
      "source": [
        "# remover os *outliers* em um novo DataFrame\n",
        "df_clean = df.copy()\n",
        "df_clean.drop(df_clean[df_clean.price > 70000].index, axis=0, inplace=True)\n",
        "df_clean.drop(df_clean[df_clean.minimum_nights > 15].index, axis=0, inplace=True)\n",
        "\n",
        "# remover `neighbourhood_group`, pois está vazio\n",
        "df_clean.drop('neighbourhood_group', axis=1, inplace=True)\n",
        "\n",
        "# plotar o histograma para as variáveis numéricas\n",
        "df_clean[['price', 'minimum_nights',\n",
        "    'calculated_host_listings_count', 'availability_365']].hist(bins=15, figsize=(10,6));"
      ],
      "metadata": {
        "colab": {
          "base_uri": "https://localhost:8080/",
          "height": 545
        },
        "id": "Qxln1ytkv0TU",
        "outputId": "7bdb0e02-c353-4e87-b2be-91417fa9022f"
      },
      "execution_count": 13,
      "outputs": [
        {
          "output_type": "display_data",
          "data": {
            "text/plain": [
              "<Figure size 1000x600 with 4 Axes>"
            ],
            "image/png": "[encoded data removed]"
          },
          "metadata": {}
        }
      ]
    },
    {
      "cell_type": "markdown",
      "source": [
        "Notemos que sem os valores muito altos, temos uma compreensão melhor da distribuição das variáveis, principalmente **price** e **minimum_nights**.\n",
        "\n"
      ],
      "metadata": {
        "id": "RR5qTNfXvzIK"
      }
    },
    {
      "cell_type": "markdown",
      "source": [
        "### **Q5. Qual a correlação existente entre as variáveis**\n",
        "\n"
      ],
      "metadata": {
        "id": "qfyk50bmHf9k"
      }
    },
    {
      "cell_type": "code",
      "source": [
        "corr = df[['price', 'minimum_nights', 'number_of_reviews', 'reviews_per_month',\n",
        "    'calculated_host_listings_count', 'availability_365']].corr()\n",
        "corr"
      ],
      "metadata": {
        "id": "2POwfnusL5s-",
        "colab": {
          "base_uri": "https://localhost:8080/",
          "height": 237
        },
        "outputId": "38ccb047-9cd0-4b7c-a897-5f6741995b79"
      },
      "execution_count": null,
      "outputs": [
        {
          "output_type": "execute_result",
          "data": {
            "text/plain": [
              "                                   price  minimum_nights  number_of_reviews  \\\n",
              "price                           1.000000        0.153587          -0.012486   \n",
              "minimum_nights                  0.153587        1.000000          -0.025307   \n",
              "number_of_reviews              -0.012486       -0.025307           1.000000   \n",
              "reviews_per_month              -0.009082       -0.042411           0.510215   \n",
              "calculated_host_listings_count -0.020977       -0.035401          -0.149875   \n",
              "availability_365                0.013420        0.016591          -0.076067   \n",
              "\n",
              "                                reviews_per_month  \\\n",
              "price                                   -0.009082   \n",
              "minimum_nights                          -0.042411   \n",
              "number_of_reviews                        0.510215   \n",
              "reviews_per_month                        1.000000   \n",
              "calculated_host_listings_count          -0.080536   \n",
              "availability_365                         0.022712   \n",
              "\n",
              "                                calculated_host_listings_count  \\\n",
              "price                                                -0.020977   \n",
              "minimum_nights                                       -0.035401   \n",
              "number_of_reviews                                    -0.149875   \n",
              "reviews_per_month                                    -0.080536   \n",
              "calculated_host_listings_count                        1.000000   \n",
              "availability_365                                      0.150380   \n",
              "\n",
              "                                availability_365  \n",
              "price                                   0.013420  \n",
              "minimum_nights                          0.016591  \n",
              "number_of_reviews                      -0.076067  \n",
              "reviews_per_month                       0.022712  \n",
              "calculated_host_listings_count          0.150380  \n",
              "availability_365                        1.000000  "
            ],
            "text/html": [
              "\n",
              "  <div id=\"df-48bd64a0-3eb0-409f-a98f-8f80f6e96a03\" class=\"colab-df-container\">\n",
              "    <div>\n",
              "<style scoped>\n",
              "    .dataframe tbody tr th:only-of-type {\n",
              "        vertical-align: middle;\n",
              "    }\n",
              "\n",
              "    .dataframe tbody tr th {\n",
              "        vertical-align: top;\n",
              "    }\n",
              "\n",
              "    .dataframe thead th {\n",
              "        text-align: right;\n",
              "    }\n",
              "</style>\n",
              "<table border=\"1\" class=\"dataframe\">\n",
              "  <thead>\n",
              "    <tr style=\"text-align: right;\">\n",
              "      <th></th>\n",
              "      <th>price</th>\n",
              "      <th>minimum_nights</th>\n",
              "      <th>number_of_reviews</th>\n",
              "      <th>reviews_per_month</th>\n",
              "      <th>calculated_host_listings_count</th>\n",
              "      <th>availability_365</th>\n",
              "    </tr>\n",
              "  </thead>\n",
              "  <tbody>\n",
              "    <tr>\n",
              "      <th>price</th>\n",
              "      <td>1.000000</td>\n",
              "      <td>0.153587</td>\n",
              "      <td>-0.012486</td>\n",
              "      <td>-0.009082</td>\n",
              "      <td>-0.020977</td>\n",
              "      <td>0.013420</td>\n",
              "    </tr>\n",
              "    <tr>\n",
              "      <th>minimum_nights</th>\n",
              "      <td>0.153587</td>\n",
              "      <td>1.000000</td>\n",
              "      <td>-0.025307</td>\n",
              "      <td>-0.042411</td>\n",
              "      <td>-0.035401</td>\n",
              "      <td>0.016591</td>\n",
              "    </tr>\n",
              "    <tr>\n",
              "      <th>number_of_reviews</th>\n",
              "      <td>-0.012486</td>\n",
              "      <td>-0.025307</td>\n",
              "      <td>1.000000</td>\n",
              "      <td>0.510215</td>\n",
              "      <td>-0.149875</td>\n",
              "      <td>-0.076067</td>\n",
              "    </tr>\n",
              "    <tr>\n",
              "      <th>reviews_per_month</th>\n",
              "      <td>-0.009082</td>\n",
              "      <td>-0.042411</td>\n",
              "      <td>0.510215</td>\n",
              "      <td>1.000000</td>\n",
              "      <td>-0.080536</td>\n",
              "      <td>0.022712</td>\n",
              "    </tr>\n",
              "    <tr>\n",
              "      <th>calculated_host_listings_count</th>\n",
              "      <td>-0.020977</td>\n",
              "      <td>-0.035401</td>\n",
              "      <td>-0.149875</td>\n",
              "      <td>-0.080536</td>\n",
              "      <td>1.000000</td>\n",
              "      <td>0.150380</td>\n",
              "    </tr>\n",
              "    <tr>\n",
              "      <th>availability_365</th>\n",
              "      <td>0.013420</td>\n",
              "      <td>0.016591</td>\n",
              "      <td>-0.076067</td>\n",
              "      <td>0.022712</td>\n",
              "      <td>0.150380</td>\n",
              "      <td>1.000000</td>\n",
              "    </tr>\n",
              "  </tbody>\n",
              "</table>\n",
              "</div>\n",
              "    <div class=\"colab-df-buttons\">\n",
              "\n",
              "  <div class=\"colab-df-container\">\n",
              "    <button class=\"colab-df-convert\" onclick=\"convertToInteractive('df-48bd64a0-3eb0-409f-a98f-8f80f6e96a03')\"\n",
              "            title=\"Convert this dataframe to an interactive table.\"\n",
              "            style=\"display:none;\">\n",
              "\n",
              "  <svg xmlns=\"http://www.w3.org/2000/svg\" height=\"24px\" viewBox=\"0 -960 960 960\">\n",
              "    <path d=\"M120-120v-720h720v720H120Zm60-500h600v-160H180v160Zm220 220h160v-160H400v160Zm0 220h160v-160H400v160ZM180-400h160v-160H180v160Zm440 0h160v-160H620v160ZM180-180h160v-160H180v160Zm440 0h160v-160H620v160Z\"/>\n",
              "  </svg>\n",
              "    </button>\n",
              "\n",
              "  <style>\n",
              "    .colab-df-container {\n",
              "      display:flex;\n",
              "      gap: 12px;\n",
              "    }\n",
              "\n",
              "    .colab-df-convert {\n",
              "      background-color: #E8F0FE;\n",
              "      border: none;\n",
              "      border-radius: 50%;\n",
              "      cursor: pointer;\n",
              "      display: none;\n",
              "      fill: #1967D2;\n",
              "      height: 32px;\n",
              "      padding: 0 0 0 0;\n",
              "      width: 32px;\n",
              "    }\n",
              "\n",
              "    .colab-df-convert:hover {\n",
              "      background-color: #E2EBFA;\n",
              "      box-shadow: 0px 1px 2px rgba(60, 64, 67, 0.3), 0px 1px 3px 1px rgba(60, 64, 67, 0.15);\n",
              "      fill: #174EA6;\n",
              "    }\n",
              "\n",
              "    .colab-df-buttons div {\n",
              "      margin-bottom: 4px;\n",
              "    }\n",
              "\n",
              "    [theme=dark] .colab-df-convert {\n",
              "      background-color: #3B4455;\n",
              "      fill: #D2E3FC;\n",
              "    }\n",
              "\n",
              "    [theme=dark] .colab-df-convert:hover {\n",
              "      background-color: #434B5C;\n",
              "      box-shadow: 0px 1px 3px 1px rgba(0, 0, 0, 0.15);\n",
              "      filter: drop-shadow(0px 1px 2px rgba(0, 0, 0, 0.3));\n",
              "      fill: #FFFFFF;\n",
              "    }\n",
              "  </style>\n",
              "\n",
              "    <script>\n",
              "      const buttonEl =\n",
              "        document.querySelector('#df-48bd64a0-3eb0-409f-a98f-8f80f6e96a03 button.colab-df-convert');\n",
              "      buttonEl.style.display =\n",
              "        google.colab.kernel.accessAllowed ? 'block' : 'none';\n",
              "\n",
              "      async function convertToInteractive(key) {\n",
              "        const element = document.querySelector('#df-48bd64a0-3eb0-409f-a98f-8f80f6e96a03');\n",
              "        const dataTable =\n",
              "          await google.colab.kernel.invokeFunction('convertToInteractive',\n",
              "                                                    [key], {});\n",
              "        if (!dataTable) return;\n",
              "\n",
              "        const docLinkHtml = 'Like what you see? Visit the ' +\n",
              "          '<a target=\"_blank\" href=https://colab.research.google.com/notebooks/data_table.ipynb>data table notebook</a>'\n",
              "          + ' to learn more about interactive tables.';\n",
              "        element.innerHTML = '';\n",
              "        dataTable['output_type'] = 'display_data';\n",
              "        await google.colab.output.renderOutput(dataTable, element);\n",
              "        const docLink = document.createElement('div');\n",
              "        docLink.innerHTML = docLinkHtml;\n",
              "        element.appendChild(docLink);\n",
              "      }\n",
              "    </script>\n",
              "  </div>\n",
              "\n",
              "\n",
              "<div id=\"df-33da1e6f-29a8-4599-9e14-9ddb7abc0e3a\">\n",
              "  <button class=\"colab-df-quickchart\" onclick=\"quickchart('df-33da1e6f-29a8-4599-9e14-9ddb7abc0e3a')\"\n",
              "            title=\"Suggest charts.\"\n",
              "            style=\"display:none;\">\n",
              "\n",
              "<svg xmlns=\"http://www.w3.org/2000/svg\" height=\"24px\"viewBox=\"0 0 24 24\"\n",
              "     width=\"24px\">\n",
              "    <g>\n",
              "        <path d=\"M19 3H5c-1.1 0-2 .9-2 2v14c0 1.1.9 2 2 2h14c1.1 0 2-.9 2-2V5c0-1.1-.9-2-2-2zM9 17H7v-7h2v7zm4 0h-2V7h2v10zm4 0h-2v-4h2v4z\"/>\n",
              "    </g>\n",
              "</svg>\n",
              "  </button>\n",
              "\n",
              "<style>\n",
              "  .colab-df-quickchart {\n",
              "      --bg-color: #E8F0FE;\n",
              "      --fill-color: #1967D2;\n",
              "      --hover-bg-color: #E2EBFA;\n",
              "      --hover-fill-color: #174EA6;\n",
              "      --disabled-fill-color: #AAA;\n",
              "      --disabled-bg-color: #DDD;\n",
              "  }\n",
              "\n",
              "  [theme=dark] .colab-df-quickchart {\n",
              "      --bg-color: #3B4455;\n",
              "      --fill-color: #D2E3FC;\n",
              "      --hover-bg-color: #434B5C;\n",
              "      --hover-fill-color: #FFFFFF;\n",
              "      --disabled-bg-color: #3B4455;\n",
              "      --disabled-fill-color: #666;\n",
              "  }\n",
              "\n",
              "  .colab-df-quickchart {\n",
              "    background-color: var(--bg-color);\n",
              "    border: none;\n",
              "    border-radius: 50%;\n",
              "    cursor: pointer;\n",
              "    display: none;\n",
              "    fill: var(--fill-color);\n",
              "    height: 32px;\n",
              "    padding: 0;\n",
              "    width: 32px;\n",
              "  }\n",
              "\n",
              "  .colab-df-quickchart:hover {\n",
              "    background-color: var(--hover-bg-color);\n",
              "    box-shadow: 0 1px 2px rgba(60, 64, 67, 0.3), 0 1px 3px 1px rgba(60, 64, 67, 0.15);\n",
              "    fill: var(--button-hover-fill-color);\n",
              "  }\n",
              "\n",
              "  .colab-df-quickchart-complete:disabled,\n",
              "  .colab-df-quickchart-complete:disabled:hover {\n",
              "    background-color: var(--disabled-bg-color);\n",
              "    fill: var(--disabled-fill-color);\n",
              "    box-shadow: none;\n",
              "  }\n",
              "\n",
              "  .colab-df-spinner {\n",
              "    border: 2px solid var(--fill-color);\n",
              "    border-color: transparent;\n",
              "    border-bottom-color: var(--fill-color);\n",
              "    animation:\n",
              "      spin 1s steps(1) infinite;\n",
              "  }\n",
              "\n",
              "  @keyframes spin {\n",
              "    0% {\n",
              "      border-color: transparent;\n",
              "      border-bottom-color: var(--fill-color);\n",
              "      border-left-color: var(--fill-color);\n",
              "    }\n",
              "    20% {\n",
              "      border-color: transparent;\n",
              "      border-left-color: var(--fill-color);\n",
              "      border-top-color: var(--fill-color);\n",
              "    }\n",
              "    30% {\n",
              "      border-color: transparent;\n",
              "      border-left-color: var(--fill-color);\n",
              "      border-top-color: var(--fill-color);\n",
              "      border-right-color: var(--fill-color);\n",
              "    }\n",
              "    40% {\n",
              "      border-color: transparent;\n",
              "      border-right-color: var(--fill-color);\n",
              "      border-top-color: var(--fill-color);\n",
              "    }\n",
              "    60% {\n",
              "      border-color: transparent;\n",
              "      border-right-color: var(--fill-color);\n",
              "    }\n",
              "    80% {\n",
              "      border-color: transparent;\n",
              "      border-right-color: var(--fill-color);\n",
              "      border-bottom-color: var(--fill-color);\n",
              "    }\n",
              "    90% {\n",
              "      border-color: transparent;\n",
              "      border-bottom-color: var(--fill-color);\n",
              "    }\n",
              "  }\n",
              "</style>\n",
              "\n",
              "  <script>\n",
              "    async function quickchart(key) {\n",
              "      const quickchartButtonEl =\n",
              "        document.querySelector('#' + key + ' button');\n",
              "      quickchartButtonEl.disabled = true;  // To prevent multiple clicks.\n",
              "      quickchartButtonEl.classList.add('colab-df-spinner');\n",
              "      try {\n",
              "        const charts = await google.colab.kernel.invokeFunction(\n",
              "            'suggestCharts', [key], {});\n",
              "      } catch (error) {\n",
              "        console.error('Error during call to suggestCharts:', error);\n",
              "      }\n",
              "      quickchartButtonEl.classList.remove('colab-df-spinner');\n",
              "      quickchartButtonEl.classList.add('colab-df-quickchart-complete');\n",
              "    }\n",
              "    (() => {\n",
              "      let quickchartButtonEl =\n",
              "        document.querySelector('#df-33da1e6f-29a8-4599-9e14-9ddb7abc0e3a button');\n",
              "      quickchartButtonEl.style.display =\n",
              "        google.colab.kernel.accessAllowed ? 'block' : 'none';\n",
              "    })();\n",
              "  </script>\n",
              "</div>\n",
              "    </div>\n",
              "  </div>\n"
            ]
          },
          "metadata": {},
          "execution_count": 29
        }
      ]
    },
    {
      "cell_type": "code",
      "source": [
        "sns.heatmap(corr, cmap='RdBu', fmt='.2f', square=True, linecolor='white', annot=True);"
      ],
      "metadata": {
        "colab": {
          "base_uri": "https://localhost:8080/",
          "height": 632
        },
        "id": "gNU7EuRprSUf",
        "outputId": "d1959e30-cd22-40c3-e454-5f98ef41b05e"
      },
      "execution_count": null,
      "outputs": [
        {
          "output_type": "display_data",
          "data": {
            "text/plain": [
              "<Figure size 640x480 with 2 Axes>"
            ],
            "image/png": "[encoded data removed]"
          },
          "metadata": {}
        }
      ]
    },
    {
      "cell_type": "markdown",
      "source": [
        "Pelas duas análises, notamos que a correlação entre quaisquer duas das variáveis selecionadas acima é praticamente nula, ou seja, o aumento em uma não altera significativamente a mudança (linear) em qualquer outra."
      ],
      "metadata": {
        "id": "QuBZQPBnrIuO"
      }
    },
    {
      "cell_type": "markdown",
      "source": [
        "### **Q6. Qual o tipo de imóvel mais alugado no Airbnb?**\n",
        "\n"
      ],
      "metadata": {
        "id": "LUNz5QiNHhsb"
      }
    },
    {
      "cell_type": "code",
      "source": [
        "df.room_type.value_counts()"
      ],
      "metadata": {
        "id": "LMW6S-rZL6T-",
        "colab": {
          "base_uri": "https://localhost:8080/"
        },
        "outputId": "af727d69-67b0-49f5-a7b5-36c6bb31bb47"
      },
      "execution_count": 25,
      "outputs": [
        {
          "output_type": "execute_result",
          "data": {
            "text/plain": [
              "Entire home/apt    8085\n",
              "Private room       2574\n",
              "Hotel room          274\n",
              "Shared room         244\n",
              "Name: room_type, dtype: int64"
            ]
          },
          "metadata": {},
          "execution_count": 25
        }
      ]
    },
    {
      "cell_type": "markdown",
      "source": [
        "Aqui concluímos que o tipo mais comum de acomodação disponível em **Tóquio** é casa/apartamento completo."
      ],
      "metadata": {
        "id": "KkT2d7Qxx8S6"
      }
    },
    {
      "cell_type": "markdown",
      "source": [
        "### **Q7. Qual a localidade mais cara do dataset?**\n"
      ],
      "metadata": {
        "id": "LdhwCPBnHjc8"
      }
    },
    {
      "cell_type": "code",
      "source": [
        "df.groupby(['neighbourhood']).price.median().sort_values(ascending=False)[:10]"
      ],
      "metadata": {
        "id": "L8jiZAfPL66g",
        "colab": {
          "base_uri": "https://localhost:8080/"
        },
        "outputId": "fb93c36a-41fd-4548-82b7-43bd11c8e97d"
      },
      "execution_count": 30,
      "outputs": [
        {
          "output_type": "execute_result",
          "data": {
            "text/plain": [
              "neighbourhood\n",
              "Shibuya Ku       20000.0\n",
              "Chiyoda Ku       18778.5\n",
              "Mitaka Shi       18666.5\n",
              "Minato Ku        18000.0\n",
              "Shinjuku Ku      17232.5\n",
              "Taito Ku         16571.0\n",
              "Chuo Ku          15328.5\n",
              "Musashino Shi    14286.0\n",
              "Okutama Machi    14143.0\n",
              "Shinagawa Ku     14122.0\n",
              "Name: price, dtype: float64"
            ]
          },
          "metadata": {},
          "execution_count": 30
        }
      ]
    },
    {
      "cell_type": "code",
      "source": [
        "df.groupby(['neighbourhood']).price.mean().sort_values(ascending=False)[:10]"
      ],
      "metadata": {
        "colab": {
          "base_uri": "https://localhost:8080/"
        },
        "id": "OUftkfPOyPCO",
        "outputId": "907d7a21-373d-48f4-c259-43cb7e78cc40"
      },
      "execution_count": 29,
      "outputs": [
        {
          "output_type": "execute_result",
          "data": {
            "text/plain": [
              "neighbourhood\n",
              "Okutama Machi    51428.666667\n",
              "Chiyoda Ku       39425.937500\n",
              "Meguro Ku        34869.681159\n",
              "Edogawa Ku       34837.019139\n",
              "Kodaira Shi      33362.400000\n",
              "Shinagawa Ku     27115.319767\n",
              "Minato Ku        26625.053790\n",
              "Shinjuku Ku      25812.402107\n",
              "Shibuya Ku       25364.965152\n",
              "Katsushika Ku    23081.463710\n",
              "Name: price, dtype: float64"
            ]
          },
          "metadata": {},
          "execution_count": 29
        }
      ]
    },
    {
      "cell_type": "markdown",
      "source": [
        "Aqui nos valemos de duas contagens, uma usando média e outra a mediana dos valores. A mediana nos fornece uma região 'num geral' mais cara, já a média nos fornece o bairro com o valor médio mais caro. Isso pode ser um problema devido à aqueles valores extremamente grandes já visualizados nos histogramas e estatísticas descritivas acima, logo talvez uma análise mais sensata seria utilizarmos o conjunto de dados excluindo aqueles valores atípicos, obtendo assim:"
      ],
      "metadata": {
        "id": "Wkou1OT9yTAm"
      }
    },
    {
      "cell_type": "code",
      "source": [
        "df_clean.groupby(['neighbourhood']).price.mediaan().sort_values(ascending=False)[:10]"
      ],
      "metadata": {
        "colab": {
          "base_uri": "https://localhost:8080/"
        },
        "id": "cHrimGqpy5Oi",
        "outputId": "add41751-0380-45b6-b9b7-312c462ae81a"
      },
      "execution_count": 31,
      "outputs": [
        {
          "output_type": "execute_result",
          "data": {
            "text/plain": [
              "neighbourhood\n",
              "Minato Ku       22830.296791\n",
              "Shibuya Ku      22260.830619\n",
              "Chiyoda Ku      22256.600000\n",
              "Taito Ku        20743.963057\n",
              "Shinjuku Ku     20436.573929\n",
              "Komae Shi       20000.000000\n",
              "Chuo Ku         19814.684982\n",
              "Shinagawa Ku    17193.528302\n",
              "Toshima Ku      16848.199582\n",
              "Mitaka Shi      16821.444444\n",
              "Name: price, dtype: float64"
            ]
          },
          "metadata": {},
          "execution_count": 31
        }
      ]
    },
    {
      "cell_type": "code",
      "source": [
        "df_clean.groupby(['neighbourhood']).price.mean().sort_values(ascending=False)[:10]"
      ],
      "metadata": {
        "colab": {
          "base_uri": "https://localhost:8080/"
        },
        "id": "ufhT9xKGy54N",
        "outputId": "98e1bc96-c428-457f-83c6-088fd2060dff"
      },
      "execution_count": 32,
      "outputs": [
        {
          "output_type": "execute_result",
          "data": {
            "text/plain": [
              "neighbourhood\n",
              "Minato Ku       22830.296791\n",
              "Shibuya Ku      22260.830619\n",
              "Chiyoda Ku      22256.600000\n",
              "Taito Ku        20743.963057\n",
              "Shinjuku Ku     20436.573929\n",
              "Komae Shi       20000.000000\n",
              "Chuo Ku         19814.684982\n",
              "Shinagawa Ku    17193.528302\n",
              "Toshima Ku      16848.199582\n",
              "Mitaka Shi      16821.444444\n",
              "Name: price, dtype: float64"
            ]
          },
          "metadata": {},
          "execution_count": 32
        }
      ]
    },
    {
      "cell_type": "markdown",
      "source": [
        "Comparando ambos os resultados, notamos que há um diferença grande entre as médias dos bairros com acomodações mais caras. Tudo nos leva a crer que os valores atípicos sobem muito as médias de alguns locais, por exemplo **Okutama Machi**. Notamos também que as medianas se mantém mais estáveis, o que mostra que esse pode ser um valor mais confiável sobre uma estimativa *central*."
      ],
      "metadata": {
        "id": "sIgMQJ4QzEDt"
      }
    },
    {
      "cell_type": "markdown",
      "source": [
        "### **Q8. Qual é a média do mínimo de noites para aluguel (minimum_nights)?**\n"
      ],
      "metadata": {
        "id": "5XZ_b5UIHk5W"
      }
    },
    {
      "cell_type": "code",
      "source": [
        "df.minimum_nights.mean()"
      ],
      "metadata": {
        "id": "xBuIzsPYL7go",
        "colab": {
          "base_uri": "https://localhost:8080/"
        },
        "outputId": "1012dd29-ce8a-4272-f118-7c59387578ad"
      },
      "execution_count": 33,
      "outputs": [
        {
          "output_type": "execute_result",
          "data": {
            "text/plain": [
              "2.5617786525901405"
            ]
          },
          "metadata": {},
          "execution_count": 33
        }
      ]
    },
    {
      "cell_type": "code",
      "source": [
        "df.minimum_nights.median()"
      ],
      "metadata": {
        "colab": {
          "base_uri": "https://localhost:8080/"
        },
        "id": "c2KrkKfG0ZD2",
        "outputId": "ecdfc3cb-4b9a-4de8-c438-abb55fce2257"
      },
      "execution_count": 36,
      "outputs": [
        {
          "output_type": "execute_result",
          "data": {
            "text/plain": [
              "1.0"
            ]
          },
          "metadata": {},
          "execution_count": 36
        }
      ]
    },
    {
      "cell_type": "code",
      "source": [
        "df_clean.minimum_nights.mean()"
      ],
      "metadata": {
        "colab": {
          "base_uri": "https://localhost:8080/"
        },
        "id": "xp32TYbgzwSl",
        "outputId": "8b7e636e-1734-4924-d2de-501881113a81"
      },
      "execution_count": 38,
      "outputs": [
        {
          "output_type": "execute_result",
          "data": {
            "text/plain": [
              "1.7069013690975132"
            ]
          },
          "metadata": {},
          "execution_count": 38
        }
      ]
    },
    {
      "cell_type": "markdown",
      "source": [
        "Por fim, o temos que o número médio de noites é de 2 noites. Com todas as acomodações sendo consideradas, a média é um pouco maior que 2, quanto que tirando os valores atípicos, é menor pouco menor que 2. A mediana em ambos os casos é $1$ e um comando mais interessante nesse caso é o utilizado abaixo."
      ],
      "metadata": {
        "id": "XZejhcLsz3oS"
      }
    },
    {
      "cell_type": "code",
      "source": [
        "df_clean.minimum_nights.describe()"
      ],
      "metadata": {
        "colab": {
          "base_uri": "https://localhost:8080/"
        },
        "id": "-TjT6J5U0rsg",
        "outputId": "93bc4dbd-05d7-400f-c85b-10c353ac9852"
      },
      "execution_count": 40,
      "outputs": [
        {
          "output_type": "execute_result",
          "data": {
            "text/plain": [
              "count    10737.000000\n",
              "mean         1.706901\n",
              "std          1.105998\n",
              "min          1.000000\n",
              "25%          1.000000\n",
              "50%          1.000000\n",
              "75%          2.000000\n",
              "max         15.000000\n",
              "Name: minimum_nights, dtype: float64"
            ]
          },
          "metadata": {},
          "execution_count": 40
        }
      ]
    },
    {
      "cell_type": "markdown",
      "source": [
        "Aqui temos que $75$% das acomodações exigem estadia mínima de 2 dias ou menos, o qu condiz com nossas médias acima."
      ],
      "metadata": {
        "id": "pgIMMqdI0xo0"
      }
    }
  ]
}